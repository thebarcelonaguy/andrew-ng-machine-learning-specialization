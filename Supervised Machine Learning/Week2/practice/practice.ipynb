{
 "cells": [
  {
   "cell_type": "markdown",
   "id": "dab4ea4a",
   "metadata": {},
   "source": [
    "<a name=\"toc_15456_2\"></a>\n",
    "# 2 Problem Statement\n",
    "\n",
    "You will use the motivating example of housing price prediction. The training dataset contains three examples with four features (size, bedrooms, floors and, age) shown in the table below.  Note that, unlike the earlier labs, size is in sqft rather than 1000 sqft. This causes an issue, which you will solve in the next lab!\n",
    "\n",
    "| Size (sqft) | Number of Bedrooms  | Number of floors | Age of  Home | Price (1000s dollars)  |   \n",
    "| ----------------| ------------------- |----------------- |--------------|-------------- |  \n",
    "| 2104            | 5                   | 1                | 45           | 460           |  \n",
    "| 1416            | 3                   | 2                | 40           | 232           |  \n",
    "| 852             | 2                   | 1                | 35           | 178           |  \n",
    "\n",
    "You will build a linear regression model using these values so you can then predict the price for other houses. For example, a house with 1200 sqft, 3 bedrooms, 1 floor, 40 years old.  \n",
    "\n",
    "Please run the following code cell to create your `X_train` and `y_train` variables."
   ]
  },
  {
   "cell_type": "code",
   "execution_count": 1,
   "id": "5ee0b9cd",
   "metadata": {},
   "outputs": [],
   "source": [
    "import numpy as np\n",
    "x_train=np.array([[2104,5,1,45],[1416,3,2,40],[852,2,1,35]])\n",
    "y_train=np.array([460,232,178])"
   ]
  },
  {
   "cell_type": "code",
   "execution_count": 2,
   "id": "3e85b206",
   "metadata": {},
   "outputs": [],
   "source": [
    "def compute_cost(x,y,w,b):\n",
    "    m=x.shape[0]\n",
    "    cost=0.0\n",
    "    for i in range(m):\n",
    "        y_pred=np.dot(x[i],w)+b\n",
    "        cost=cost+(y_pred-y[i])**2\n",
    "    return cost/(2*m)"
   ]
  },
  {
   "cell_type": "code",
   "execution_count": 3,
   "id": "e4b4fd45",
   "metadata": {},
   "outputs": [],
   "source": [
    "def compute_gradient(x,y,w,b):\n",
    "    m,n=x.shape\n",
    "    dj_db=0\n",
    "    dj_dw=np.zeros(n)\n",
    "    for i in range(m):\n",
    "        y_pred=np.dot(x[i],w)+b\n",
    "        err=y_pred-y[i]\n",
    "        dj_db+=err\n",
    "        for j in range(n):\n",
    "            dj_dw[j]= dj_dw[j]+(err*x[i,j])    \n",
    "    final_db=dj_db/m\n",
    "    final_dw=dj_dw/m\n",
    "    return final_db,final_dw\n",
    "    "
   ]
  },
  {
   "cell_type": "code",
   "execution_count": 4,
   "id": "5a63d785",
   "metadata": {},
   "outputs": [
    {
     "name": "stdout",
     "output_type": "stream",
     "text": [
      "-1.6739251501955248e-06\n",
      "[-2.72623577e-03 -6.27197263e-06 -2.21745578e-06 -6.92403391e-05]\n"
     ]
    }
   ],
   "source": [
    "b_init = 785.1811367994083\n",
    "w_init = np.array([ 0.39133535, 18.75376741, -53.36032453, -26.42131618])\n",
    "x,y=compute_gradient(x_train,y_train,w_init,b_init)\n",
    "print(x)\n",
    "print(y)"
   ]
  },
  {
   "cell_type": "code",
   "execution_count": 20,
   "id": "335a4c90",
   "metadata": {},
   "outputs": [],
   "source": [
    "def gradient_descent(x,y,w_in,b_in,iterations,alpha,compute_gradient):\n",
    "    m,n=x.shape\n",
    "    b=b_in\n",
    "    w=w_in\n",
    "    for i in range(iterations):\n",
    "        dj_db,dj_dw=compute_gradient(x,y,w,b)\n",
    "        b= b -(alpha*dj_db)\n",
    "        w = w - (alpha*dj_dw)\n",
    "    \n",
    "    return w,b"
   ]
  },
  {
   "cell_type": "code",
   "execution_count": 21,
   "id": "39a1e1fa",
   "metadata": {},
   "outputs": [
    {
     "name": "stdout",
     "output_type": "stream",
     "text": [
      "b,w found by gradient descent: -0.00,[ 0.20396569  0.00374919 -0.0112487  -0.0658614 ] \n"
     ]
    }
   ],
   "source": [
    "initial_w = np.zeros_like(w_init)\n",
    "initial_b = 0.\n",
    "iterations = 1000\n",
    "alpha = 5.0e-7\n",
    "w,b=gradient_descent(x_train, y_train, initial_w, initial_b, iterations,alpha,compute_gradient)\n",
    "print(f\"b,w found by gradient descent: {b:0.2f},{w} \")"
   ]
  },
  {
   "cell_type": "code",
   "execution_count": null,
   "id": "64d18b2b",
   "metadata": {},
   "outputs": [],
   "source": []
  }
 ],
 "metadata": {
  "kernelspec": {
   "display_name": "Python 3",
   "language": "python",
   "name": "python3"
  },
  "language_info": {
   "codemirror_mode": {
    "name": "ipython",
    "version": 3
   },
   "file_extension": ".py",
   "mimetype": "text/x-python",
   "name": "python",
   "nbconvert_exporter": "python",
   "pygments_lexer": "ipython3",
   "version": "3.8.8"
  }
 },
 "nbformat": 4,
 "nbformat_minor": 5
}
